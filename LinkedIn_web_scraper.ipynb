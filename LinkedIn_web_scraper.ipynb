{
 "cells": [
  {
   "attachments": {
    "image-2.png": {
     "image/png": "[encoded data removed]"
    }
   },
   "cell_type": "markdown",
   "id": "incorporate-wayne",
   "metadata": {},
   "source": [
    "# Louis Atallah\n",
    "# LinkedIn Web Scraper"
   ]
  },
  {
   "cell_type": "code",
   "execution_count": 110,
   "id": "impressed-strand",
   "metadata": {},
   "outputs": [],
   "source": [
    "import random\n",
    "import argparse\n",
    "import requests\n",
    "import re\n",
    "from selenium import webdriver\n",
    "from selenium.webdriver.common.keys import Keys\n",
    "from selenium.webdriver.common.by import By\n",
    "import time as t\n",
    "from bs4 import BeautifulSoup\n",
    "import pandas as pd\n",
    "import numpy as np\n",
    "import urllib"
   ]
  },
  {
   "cell_type": "markdown",
   "id": "cathedral-bundle",
   "metadata": {},
   "source": [
    "\n",
    "\n",
    "# PART 1: Webscrapping data from LinkedIn"
   ]
  },
  {
   "cell_type": "markdown",
   "id": "floating-cigarette",
   "metadata": {},
   "source": [
    "### Class implemented to get the weblinks of employees profiles with their names and labels."
   ]
  },
  {
   "cell_type": "code",
   "execution_count": 111,
   "id": "sharp-allen",
   "metadata": {},
   "outputs": [],
   "source": [
    "class LinkedinScraper(object):\n",
    "  def __init__(self, keyword, limit):\n",
    "      \"\"\"\n",
    "      param keyword: a str of keyword(s) to search for (here the name of the company - Hubspot)\n",
    "      param limit: number of profiles to scrape\n",
    "      \"\"\"\n",
    "      self.keyword = keyword.replace(' ', '%20')\n",
    "      self.all_htmls = \"\"\n",
    "      self.quantity = '100'\n",
    "      self.limit = int(limit)\n",
    "      self.counter = 0\n",
    "    \n",
    "  def search(self):\n",
    "        \"\"\"\n",
    "        perform the search\n",
    "        return a list of htmls from Google Searches\n",
    "        \"\"\"\n",
    "        # choose a random user agent\n",
    "        user_agents = [\n",
    "            'Mozilla/5.0 (Windows NT 6.2) AppleWebKit/537.36 (KHTML, like Gecko) Chrome/28.0.1464.0 Safari/537.36',\n",
    "            'Mozilla/5.0 (compatible; MSIE 9.0; Windows NT 6.1; Trident/5.0) chromeframe/10.0.648.205',\n",
    "            'Mozilla/5.0 (Windows NT 6.2; WOW64) AppleWebKit/537.36 (KHTML, like Gecko) Chrome/27.0.1500.55 Safari/537.36',\n",
    "            'Mozilla/5.0 (Windows NT 6.2) AppleWebKit/536.6 (KHTML, like Gecko) Chrome/20.0.1090.0 Safari/536.6',\n",
    "            'Mozilla/5.0 (X11; Linux x86_64) AppleWebKit/535.19 (KHTML, like Gecko) Ubuntu/11.10 Chromium/18.0.1025.142 Chrome/18.0.1025.142 Safari/535.19',\n",
    "            'Mozilla/5.0 (Windows NT 5.1; U; de; rv:1.9.1.6) Gecko/20091201 Firefox/3.5.6 Opera 11.00'\n",
    "        ]\n",
    "        while self.counter < self.limit:\n",
    "            headers = {'User-Agent': random.choice(user_agents)}        # random user agent selected\n",
    "            url = 'http://google.com/search?num=100&start=' + str(self.counter) + '&hl=en&meta=&q=site%3Alinkedin.com/in%20' + self.keyword\n",
    "            resp = requests.get(url, headers=headers)\n",
    "            if (\"Our systems have detected unusual traffic from your computer network.\") in resp.text:\n",
    "                print(\"Running into captchas\")\n",
    "                return\n",
    "\n",
    "            self.all_htmls += resp.text\n",
    "            self.counter += 100\n",
    "            \n",
    "  def parse_links(self):\n",
    "    \"\"\"\n",
    "    collect the profile links\n",
    "    return a list of links\n",
    "    \"\"\"\n",
    "    \n",
    "    reg_links = re.compile(r\"url=https:\\/\\/www\\.linkedin.com(.*?)&\")\n",
    "    self.temp = reg_links.findall(self.all_htmls)\n",
    "    results = []\n",
    "    for regex in self.temp:\n",
    "      final_url = regex.replace(\"url=\", \"\")\n",
    "      results.append(\"https://www.linkedin.com\" + final_url)\n",
    "    return results\n",
    "    \n",
    "    \n",
    "  def parse_people(self):\n",
    "    \"\"\"\n",
    "    param html: parse the html for Linkedin Profiles using regex\n",
    "    return a list of employees with their names and their labels\n",
    "    \"\"\"\n",
    "    \n",
    "    reg_people = re.compile(r'\">[a-zA-Z0-9._ -]* -|\\| LinkedIn')\n",
    "    self.temp = reg_people.findall(self.all_htmls)\n",
    "    print(self.temp)\n",
    "    results = []\n",
    "    for iteration in (self.temp):\n",
    "        delete = iteration.replace(' | LinkedIn', '')\n",
    "        delete = delete.replace(' - LinkedIn', '')\n",
    "        delete = delete.replace(' profiles ', '')\n",
    "        delete = delete.replace('LinkedIn', '')\n",
    "        delete = delete.replace('\"', '')\n",
    "        delete = delete.replace('>', '')\n",
    "        delete = delete.strip(\"-\")\n",
    "        delete = delete.strip('| ')\n",
    "        \n",
    "        if delete != \" \" and delete != \"\":\n",
    "            results.append(delete)\n",
    "    return results"
   ]
  },
  {
   "cell_type": "markdown",
   "id": "wicked-responsibility",
   "metadata": {},
   "source": [
    "# LinkedIn Login"
   ]
  },
  {
   "cell_type": "code",
   "execution_count": 112,
   "id": "female-reward",
   "metadata": {},
   "outputs": [],
   "source": [
    "option = webdriver.ChromeOptions()\n",
    "option.add_argument(\"--incognito\")\n",
    "option.add_argument(\"lan=eng\")"
   ]
  },
  {
   "cell_type": "code",
   "execution_count": 113,
   "id": "bridal-diesel",
   "metadata": {},
   "outputs": [],
   "source": [
    "driver = webdriver.Chrome(\"./chromedriver\", options=option)\n"
   ]
  },
  {
   "cell_type": "code",
   "execution_count": 114,
   "id": "thick-texas",
   "metadata": {},
   "outputs": [],
   "source": [
    "def login():\n",
    "    \"\"\"\n",
    "    \n",
    "    Function to get  to the login page and sign in \n",
    "    \"\"\"\n",
    "    driver.get(\"https://www.linkedin.com/\")\n",
    "\n",
    "    email = input(\"email/cell phone: \")\n",
    "    password = input(\"password: \")\n",
    "\n",
    "    username = driver.find_element_by_id(\"session_key\")\n",
    "    passw = driver.find_element_by_id(\"session_password\")\n",
    "    username.send_keys(email)\n",
    "    passw.send_keys(password)\n",
    "\n",
    "    element = driver.find_element_by_class_name(\"sign-in-form__submit-button\")\n",
    "    try :\n",
    "        element.click()\n",
    "    except Exception as e :\n",
    "        print(e)"
   ]
  },
  {
   "cell_type": "code",
   "execution_count": null,
   "id": "fifth-purchase",
   "metadata": {},
   "outputs": [],
   "source": [
    "login()"
   ]
  },
  {
   "cell_type": "markdown",
   "id": "novel-transportation",
   "metadata": {},
   "source": [
    "# Company Webpage\n"
   ]
  },
  {
   "cell_type": "code",
   "execution_count": 116,
   "id": "early-wholesale",
   "metadata": {},
   "outputs": [],
   "source": [
    "driver.get(\"https://www.linkedin.com/company/company_name/people/\")"
   ]
  },
  {
   "cell_type": "markdown",
   "id": "competent-centre",
   "metadata": {},
   "source": [
    "## LinkedIn Scrapping"
   ]
  },
  {
   "cell_type": "code",
   "execution_count": null,
   "id": "charitable-depression",
   "metadata": {},
   "outputs": [],
   "source": [
    "ls = LinkedinScraper(keyword=\"Company_name\",limit=300)\n",
    "ls.search()\n",
    "links = ls.parse_links()\n",
    "profiles = ls.parse_people()"
   ]
  },
  {
   "cell_type": "markdown",
   "id": "robust-committee",
   "metadata": {},
   "source": [
    "### Dataframe \n"
   ]
  },
  {
   "cell_type": "code",
   "execution_count": 118,
   "id": "dedicated-cisco",
   "metadata": {},
   "outputs": [
    {
     "data": {
      "text/html": [
       "<div>\n",
       "<style scoped>\n",
       "    .dataframe tbody tr th:only-of-type {\n",
       "        vertical-align: middle;\n",
       "    }\n",
       "\n",
       "    .dataframe tbody tr th {\n",
       "        vertical-align: top;\n",
       "    }\n",
       "\n",
       "    .dataframe thead th {\n",
       "        text-align: right;\n",
       "    }\n",
       "</style>\n",
       "<table border=\"1\" class=\"dataframe\">\n",
       "  <thead>\n",
       "    <tr style=\"text-align: right;\">\n",
       "      <th></th>\n",
       "      <th>firstname</th>\n",
       "      <th>lastname</th>\n",
       "      <th>label</th>\n",
       "      <th>location</th>\n",
       "      <th>profile_picture</th>\n",
       "    </tr>\n",
       "  </thead>\n",
       "  <tbody>\n",
       "  </tbody>\n",
       "</table>\n",
       "</div>"
      ],
      "text/plain": [
       "Empty DataFrame\n",
       "Columns: [firstname, lastname, label, location, profile_picture]\n",
       "Index: []"
      ]
     },
     "execution_count": 118,
     "metadata": {},
     "output_type": "execute_result"
    }
   ],
   "source": [
    "dataset = pd.DataFrame(columns=['firstname','lastname','label','location','profile_picture'])\n",
    "dataset"
   ]
  },
  {
   "cell_type": "markdown",
   "id": "passive-skiing",
   "metadata": {},
   "source": [
    "### Scrapping the data from LinkedIn\n"
   ]
  },
  {
   "cell_type": "code",
   "execution_count": null,
   "id": "acquired-buying",
   "metadata": {},
   "outputs": [],
   "source": [
    "for i in range(0,250,1) : \n",
    "    profile = profiles[i].split(\" - \")\n",
    "    name = profile[0].split()\n",
    "    firstname = name[0]\n",
    "    \n",
    "    try:\n",
    "        lastname = name[1]     \n",
    "    except :\n",
    "        lastname = None\n",
    "        \n",
    "    if \" - \" in profiles[i] :\n",
    "        label = \" - \".join(profiles[i].split(\" - \")[1:])\n",
    "    else : \n",
    "        label = None\n",
    "        \n",
    "    driver.get(links[i])\n",
    "    \n",
    "    # location\n",
    "    try : \n",
    "        location = driver.find_element_by_xpath(\"//*[@class='text-body-small inline t-black--light break-words'][last()]\").text\n",
    "    except : \n",
    "        driver.get(\"https://www.linkedin.com/\")\n",
    "        driver.get(links[i])\n",
    "        \n",
    "    # image\n",
    "    try : \n",
    "        profile_picture = driver.find_element_by_xpath(\"//*[@class='pv-top-card-profile-picture__image pv-top-card-profile-picture__image--show ember-view'][last()]\").get_attribute('src')\n",
    "    except :\n",
    "        profile_picture = None\n",
    "        \n",
    "    df = pd.DataFrame([[firstname,lastname,label,location,profile_picture]],columns=['firstname','lastname','label','location','profile_picture'])\n",
    "    # concatenate the new data with the main dataframe\n",
    "    dataset = pd.concat([dataset,df], ignore_index=True)  \n",
    "    \n",
    "    "
   ]
  },
  {
   "cell_type": "markdown",
   "id": "stainless-terminology",
   "metadata": {},
   "source": [
    "### Drop duplicated rows"
   ]
  },
  {
   "cell_type": "code",
   "execution_count": 93,
   "id": "molecular-relaxation",
   "metadata": {},
   "outputs": [],
   "source": [
    "dataset = dataset.drop_duplicates(keep='first')"
   ]
  },
  {
   "cell_type": "markdown",
   "id": "identified-pennsylvania",
   "metadata": {},
   "source": [
    "### Drop rows with Nas as first name, last name, or as profile picture\n"
   ]
  },
  {
   "cell_type": "code",
   "execution_count": 94,
   "id": "damaged-strategy",
   "metadata": {},
   "outputs": [],
   "source": [
    "dataset = dataset.dropna(subset=['firstname','lastname','profile_picture'])"
   ]
  },
  {
   "cell_type": "code",
   "execution_count": 95,
   "id": "living-tumor",
   "metadata": {},
   "outputs": [
    {
     "data": {
      "text/plain": [
       "(10, 5)"
      ]
     },
     "execution_count": 95,
     "metadata": {},
     "output_type": "execute_result"
    }
   ],
   "source": [
    "dataset.shape"
   ]
  },
  {
   "cell_type": "markdown",
   "id": "burning-incident",
   "metadata": {},
   "source": [
    "### Function to drop a certain amount of rows according to their index"
   ]
  },
  {
   "cell_type": "code",
   "execution_count": 96,
   "id": "statutory-patio",
   "metadata": {},
   "outputs": [],
   "source": [
    "def reduce(lim) :\n",
    "    \"\"\"\n",
    "    return index with nan values\n",
    "    \"\"\"\n",
    "    rows_with_nan = []\n",
    "    for index, row in dataset.iterrows():\n",
    "        is_nan_series = row.isnull()\n",
    "        if is_nan_series.any():\n",
    "            rows_with_nan.append(index)\n",
    "    rows_with_nan = rows_with_nan[:lim]        \n",
    "    return rows_with_nan"
   ]
  },
  {
   "cell_type": "markdown",
   "id": "unauthorized-christmas",
   "metadata": {},
   "source": [
    "### If the data frame has over 200 rows"
   ]
  },
  {
   "cell_type": "code",
   "execution_count": 97,
   "id": "reported-priority",
   "metadata": {},
   "outputs": [],
   "source": [
    "if dataset.shape[0] > 200 : \n",
    "    index = reduce(dataset.shape[0] - 200)\n",
    "    index\n",
    "    dataset = dataset.drop(labels=index, axis=0)"
   ]
  },
  {
   "cell_type": "code",
   "execution_count": 98,
   "id": "functional-completion",
   "metadata": {},
   "outputs": [
    {
     "data": {
      "text/html": [
       "<div>\n",
       "<style scoped>\n",
       "    .dataframe tbody tr th:only-of-type {\n",
       "        vertical-align: middle;\n",
       "    }\n",
       "\n",
       "    .dataframe tbody tr th {\n",
       "        vertical-align: top;\n",
       "    }\n",
       "\n",
       "    .dataframe thead th {\n",
       "        text-align: right;\n",
       "    }\n",
       "</style>\n",
       "<table border=\"1\" class=\"dataframe\">\n",
       "  <thead>\n",
       "    <tr style=\"text-align: right;\">\n",
       "      <th></th>\n",
       "      <th>firstname</th>\n",
       "      <th>lastname</th>\n",
       "      <th>label</th>\n",
       "      <th>location</th>\n",
       "      <th>profile_picture</th>\n",
       "    </tr>\n",
       "  </thead>\n",
       "  <tbody>\n",
       "    <tr>\n",
       "      <th>5</th>\n",
       "      <td>Sam</td>\n",
       "      <td>Shoolman</td>\n",
       "      <td>Senior Director of Corporate Sales</td>\n",
       "      <td>Boston, Massachusetts, United States</td>\n",
       "      <td>https://media-exp1.licdn.com/dms/image/C4D03AQ...</td>\n",
       "    </tr>\n",
       "    <tr>\n",
       "      <th>7</th>\n",
       "      <td>Kyle</td>\n",
       "      <td>Jepson</td>\n",
       "      <td>Senior Inbound Sales Professor - HubSpot</td>\n",
       "      <td>Boston, Massachusetts, United States</td>\n",
       "      <td>https://media-exp1.licdn.com/dms/image/C5603AQ...</td>\n",
       "    </tr>\n",
       "    <tr>\n",
       "      <th>10</th>\n",
       "      <td>Kieran</td>\n",
       "      <td>Flanagan</td>\n",
       "      <td>Senior Vice President Marketing</td>\n",
       "      <td>Portland, Maine, United States</td>\n",
       "      <td>https://media-exp1.licdn.com/dms/image/C4D03AQ...</td>\n",
       "    </tr>\n",
       "    <tr>\n",
       "      <th>0</th>\n",
       "      <td>Scott</td>\n",
       "      <td>Brinker</td>\n",
       "      <td>VP Platform Ecosystem - HubSpot</td>\n",
       "      <td>United States</td>\n",
       "      <td>https://media-exp1.licdn.com/dms/image/C5603AQ...</td>\n",
       "    </tr>\n",
       "    <tr>\n",
       "      <th>8</th>\n",
       "      <td>Chris</td>\n",
       "      <td>Hogan</td>\n",
       "      <td>VP Corporate Strategy</td>\n",
       "      <td>Boston, Massachusetts, United States</td>\n",
       "      <td>https://media-exp1.licdn.com/dms/image/C4D03AQ...</td>\n",
       "    </tr>\n",
       "  </tbody>\n",
       "</table>\n",
       "</div>"
      ],
      "text/plain": [
       "   firstname  lastname                                     label  \\\n",
       "5        Sam  Shoolman        Senior Director of Corporate Sales   \n",
       "7       Kyle    Jepson  Senior Inbound Sales Professor - HubSpot   \n",
       "10    Kieran  Flanagan           Senior Vice President Marketing   \n",
       "0      Scott   Brinker           VP Platform Ecosystem - HubSpot   \n",
       "8      Chris     Hogan                     VP Corporate Strategy   \n",
       "\n",
       "                                location  \\\n",
       "5   Boston, Massachusetts, United States   \n",
       "7   Boston, Massachusetts, United States   \n",
       "10        Portland, Maine, United States   \n",
       "0                          United States   \n",
       "8   Boston, Massachusetts, United States   \n",
       "\n",
       "                                      profile_picture  \n",
       "5   https://media-exp1.licdn.com/dms/image/C4D03AQ...  \n",
       "7   https://media-exp1.licdn.com/dms/image/C5603AQ...  \n",
       "10  https://media-exp1.licdn.com/dms/image/C4D03AQ...  \n",
       "0   https://media-exp1.licdn.com/dms/image/C5603AQ...  \n",
       "8   https://media-exp1.licdn.com/dms/image/C4D03AQ...  "
      ]
     },
     "execution_count": 98,
     "metadata": {},
     "output_type": "execute_result"
    }
   ],
   "source": [
    "dataset.sample(5)"
   ]
  },
  {
   "cell_type": "markdown",
   "id": "right-romania",
   "metadata": {},
   "source": [
    "# Load to CSV file\n"
   ]
  },
  {
   "cell_type": "code",
   "execution_count": 144,
   "id": "unable-heading",
   "metadata": {},
   "outputs": [],
   "source": [
    "dataset.to_csv(\"data_employees.csv\")"
   ]
  },
  {
   "cell_type": "code",
   "execution_count": 120,
   "id": "julian-germany",
   "metadata": {},
   "outputs": [],
   "source": [
    "driver.close()"
   ]
  },
  {
   "cell_type": "markdown",
   "id": "combined-decision",
   "metadata": {},
   "source": [
    "# \n",
    "# Downloading the images to a folder"
   ]
  },
  {
   "cell_type": "code",
   "execution_count": 48,
   "id": "valid-pointer",
   "metadata": {},
   "outputs": [],
   "source": [
    "d = pd.read_csv(\"data_employees_base.csv\")[['firstname','lastname','label','location','profile_picture']]\n"
   ]
  },
  {
   "cell_type": "code",
   "execution_count": 87,
   "id": "arbitrary-spending",
   "metadata": {},
   "outputs": [],
   "source": [
    "\n",
    "for i in range(200) : \n",
    "    url_img = d.iloc[i][4]\n",
    "    img_name = \" \".join([str(d.iloc[i][0]),str(d.iloc[i][1])])\n",
    "    urllib.request.urlretrieve(\n",
    "                url_img,               \n",
    "                filename=\"./pictures/{}.png\".format(img_name))"
   ]
  },
  {
   "cell_type": "markdown",
   "id": "inclusive-devon",
   "metadata": {},
   "source": [
    "\n",
    "\n",
    "\n",
    "# PART 2: Gender Prediction"
   ]
  },
  {
   "cell_type": "code",
   "execution_count": 67,
   "id": "offensive-title",
   "metadata": {},
   "outputs": [],
   "source": [
    "import tensorflow as tf\n",
    "from keras.preprocessing.image import img_to_array\n",
    "from PIL import Image\n",
    "from tensorflow.keras.applications.vgg16 import VGG16\n",
    "from tensorflow.keras import layers\n",
    "import glob\n",
    "import cv2\n",
    "import pickle\n",
    "from tensorflow.keras.models import  model_from_json\n",
    "\n",
    "tf.config.run_functions_eagerly(True)\n"
   ]
  },
  {
   "cell_type": "markdown",
   "id": "hearing-penetration",
   "metadata": {},
   "source": [
    "## CNN model VGG16 selected for the study\n"
   ]
  },
  {
   "cell_type": "code",
   "execution_count": 68,
   "id": "automotive-translation",
   "metadata": {},
   "outputs": [],
   "source": [
    "base_model = VGG16(input_shape = (224, 224, 3), # Shape of our images\n",
    "include_top = False, # Leave out the last fully connected layer\n",
    "weights = 'imagenet')"
   ]
  },
  {
   "cell_type": "markdown",
   "id": "attractive-turtle",
   "metadata": {},
   "source": [
    "### basic layers are not trained again"
   ]
  },
  {
   "cell_type": "code",
   "execution_count": 69,
   "id": "current-kennedy",
   "metadata": {},
   "outputs": [],
   "source": [
    "for layer in base_model.layers:\n",
    "    layer.trainable = False"
   ]
  },
  {
   "cell_type": "markdown",
   "id": "animated-adult",
   "metadata": {},
   "source": [
    "### We add a flatten layer, a dense of 512 nodes, a dropout of 0.5, and eventually a sigmoid activation function dense layer of 1 for the output\n",
    "\n",
    "### Adam optimizer with learning rate of 0.0001"
   ]
  },
  {
   "cell_type": "code",
   "execution_count": 70,
   "id": "sweet-migration",
   "metadata": {},
   "outputs": [],
   "source": [
    "# Flatten the output layer to 1 dimension\n",
    "x = layers.Flatten()(base_model.output)\n",
    "\n",
    "# Add a fully connected layer with 512 hidden units and ReLU activation\n",
    "x = layers.Dense(512, activation='relu')(x)\n",
    "\n",
    "# Add a dropout rate of 0.5\n",
    "x = layers.Dropout(0.5)(x)\n",
    "\n",
    "# Add a final sigmoid layer with 1 node for classification output\n",
    "x = layers.Dense(1, activation='sigmoid')(x)\n",
    "\n",
    "model = tf.keras.models.Model(base_model.input, x)\n",
    "\n",
    "model.compile(optimizer = tf.keras.optimizers.Adam(lr=0.0001), loss = 'binary_crossentropy',metrics = ['acc'])"
   ]
  },
  {
   "cell_type": "markdown",
   "id": "excited-record",
   "metadata": {},
   "source": [
    "### Below, the architecture of the model\n",
    "### We can see the four last layers added previously\n",
    "### The input format for the image to be processed is (224,224,3)"
   ]
  },
  {
   "cell_type": "code",
   "execution_count": 71,
   "id": "african-entry",
   "metadata": {},
   "outputs": [
    {
     "name": "stdout",
     "output_type": "stream",
     "text": [
      "Model: \"model\"\n",
      "_________________________________________________________________\n",
      "Layer (type)                 Output Shape              Param #   \n",
      "=================================================================\n",
      "input_1 (InputLayer)         [(None, 224, 224, 3)]     0         \n",
      "_________________________________________________________________\n",
      "block1_conv1 (Conv2D)        (None, 224, 224, 64)      1792      \n",
      "_________________________________________________________________\n",
      "block1_conv2 (Conv2D)        (None, 224, 224, 64)      36928     \n",
      "_________________________________________________________________\n",
      "block1_pool (MaxPooling2D)   (None, 112, 112, 64)      0         \n",
      "_________________________________________________________________\n",
      "block2_conv1 (Conv2D)        (None, 112, 112, 128)     73856     \n",
      "_________________________________________________________________\n",
      "block2_conv2 (Conv2D)        (None, 112, 112, 128)     147584    \n",
      "_________________________________________________________________\n",
      "block2_pool (MaxPooling2D)   (None, 56, 56, 128)       0         \n",
      "_________________________________________________________________\n",
      "block3_conv1 (Conv2D)        (None, 56, 56, 256)       295168    \n",
      "_________________________________________________________________\n",
      "block3_conv2 (Conv2D)        (None, 56, 56, 256)       590080    \n",
      "_________________________________________________________________\n",
      "block3_conv3 (Conv2D)        (None, 56, 56, 256)       590080    \n",
      "_________________________________________________________________\n",
      "block3_pool (MaxPooling2D)   (None, 28, 28, 256)       0         \n",
      "_________________________________________________________________\n",
      "block4_conv1 (Conv2D)        (None, 28, 28, 512)       1180160   \n",
      "_________________________________________________________________\n",
      "block4_conv2 (Conv2D)        (None, 28, 28, 512)       2359808   \n",
      "_________________________________________________________________\n",
      "block4_conv3 (Conv2D)        (None, 28, 28, 512)       2359808   \n",
      "_________________________________________________________________\n",
      "block4_pool (MaxPooling2D)   (None, 14, 14, 512)       0         \n",
      "_________________________________________________________________\n",
      "block5_conv1 (Conv2D)        (None, 14, 14, 512)       2359808   \n",
      "_________________________________________________________________\n",
      "block5_conv2 (Conv2D)        (None, 14, 14, 512)       2359808   \n",
      "_________________________________________________________________\n",
      "block5_conv3 (Conv2D)        (None, 14, 14, 512)       2359808   \n",
      "_________________________________________________________________\n",
      "block5_pool (MaxPooling2D)   (None, 7, 7, 512)         0         \n",
      "_________________________________________________________________\n",
      "flatten (Flatten)            (None, 25088)             0         \n",
      "_________________________________________________________________\n",
      "dense (Dense)                (None, 512)               12845568  \n",
      "_________________________________________________________________\n",
      "dropout (Dropout)            (None, 512)               0         \n",
      "_________________________________________________________________\n",
      "dense_1 (Dense)              (None, 1)                 513       \n",
      "=================================================================\n",
      "Total params: 27,560,769\n",
      "Trainable params: 12,846,081\n",
      "Non-trainable params: 14,714,688\n",
      "_________________________________________________________________\n"
     ]
    }
   ],
   "source": [
    "model.summary()"
   ]
  },
  {
   "cell_type": "code",
   "execution_count": 72,
   "id": "uniform-congress",
   "metadata": {},
   "outputs": [],
   "source": [
    "def open_convert(url) :\n",
    "    \"\"\"\n",
    "    return the image properly formatted\n",
    "    \"\"\"\n",
    "    if url[0:4] == 'http' : # if url is complete\n",
    "        try : \n",
    "            im = Image.open(urllib.request.urlopen(url))\n",
    "        except :\n",
    "            print(\"Error on url : \"+url)\n",
    "            im = None\n",
    "        if im != None : # if there is an image\n",
    "            if im.mode != 'RGB' : # conversion into RGB colors \n",
    "                im = im.convert('RGB')\n",
    "            im  = im.resize((224,224), Image.Resampling.LANCZOS)  # proper size\n",
    "\n",
    "            img =im \n",
    "            img_array = img_to_array(img)\n",
    "            img_array = img_array.reshape((1,) + img_array.shape) \n",
    "            return img_array"
   ]
  },
  {
   "cell_type": "markdown",
   "id": "continental-greece",
   "metadata": {},
   "source": [
    "## train set \n"
   ]
  },
  {
   "cell_type": "code",
   "execution_count": 23,
   "id": "hindu-voltage",
   "metadata": {},
   "outputs": [],
   "source": [
    "train = []\n",
    "train_labels = []\n",
    "test = []\n",
    "test_labels = []"
   ]
  },
  {
   "cell_type": "code",
   "execution_count": 73,
   "id": "frozen-hydrogen",
   "metadata": {},
   "outputs": [],
   "source": [
    "\n",
    "def get_image(sex, trainset=train, labels = train_labels, step = 'training') :\n",
    "    \"\"\"\n",
    "    get images from the training and validation sets\n",
    "    those sets are the labelized data I gathered from Kaggle to train the model (supervised learning)\n",
    "    \"\"\"\n",
    "    for filename in glob.glob('./'+str(step)+'/male/*.jpg'): # all .jpg files\n",
    "        \n",
    "        im=Image.open(filename)\n",
    "        if im.mode != 'RGB' : \n",
    "            im = im.convert('RGB')\n",
    "        im  = im.resize((224,224), Image.Resampling.LANCZOS)\n",
    "\n",
    "        img =im \n",
    "        img_array = img_to_array(img)\n",
    "        img_array = img_array.reshape(img_array.shape) \n",
    "        \n",
    "        if sex == 'male' : \n",
    "            trainset.append(img_array)\n",
    "            labels.append(1)   # male\n",
    "        else : \n",
    "            trainset.append(img_array)\n",
    "            labels.append(0)  # female\n",
    "            \n",
    "    return trainset, labels"
   ]
  },
  {
   "cell_type": "markdown",
   "id": "significant-pharmaceutical",
   "metadata": {},
   "source": [
    "### I stop at 1500 images of men to not exceed the RAM of the session on Colab "
   ]
  },
  {
   "cell_type": "code",
   "execution_count": 25,
   "id": "furnished-ghost",
   "metadata": {},
   "outputs": [
    {
     "data": {
      "text/plain": [
       "1728"
      ]
     },
     "execution_count": 25,
     "metadata": {},
     "output_type": "execute_result"
    }
   ],
   "source": [
    "\n",
    "train, train_labels = get_image(\"male\")\n",
    "len(train)"
   ]
  },
  {
   "cell_type": "code",
   "execution_count": 26,
   "id": "another-affiliation",
   "metadata": {},
   "outputs": [
    {
     "data": {
      "text/plain": [
       "3456"
      ]
     },
     "execution_count": 26,
     "metadata": {},
     "output_type": "execute_result"
    }
   ],
   "source": [
    "train, train_labels = get_image(\"female\")\n",
    "len(train)"
   ]
  },
  {
   "cell_type": "code",
   "execution_count": 212,
   "id": "still-portugal",
   "metadata": {},
   "outputs": [
    {
     "data": {
      "text/plain": [
       "(224, 224, 3)"
      ]
     },
     "execution_count": 212,
     "metadata": {},
     "output_type": "execute_result"
    }
   ],
   "source": [
    "train[0].shape"
   ]
  },
  {
   "cell_type": "code",
   "execution_count": 236,
   "id": "every-baltimore",
   "metadata": {},
   "outputs": [
    {
     "data": {
      "text/plain": [
       "3456"
      ]
     },
     "execution_count": 236,
     "metadata": {},
     "output_type": "execute_result"
    }
   ],
   "source": [
    "len(train)"
   ]
  },
  {
   "cell_type": "markdown",
   "id": "accredited-phrase",
   "metadata": {},
   "source": [
    "### data balanced at 50% for both genders with 3000 rows\n"
   ]
  },
  {
   "cell_type": "code",
   "execution_count": 74,
   "id": "strong-underground",
   "metadata": {},
   "outputs": [
    {
     "data": {
      "text/plain": [
       "(1728, 1728)"
      ]
     },
     "execution_count": 74,
     "metadata": {},
     "output_type": "execute_result"
    }
   ],
   "source": [
    "(train_labels.count(0),train_labels.count(1))"
   ]
  },
  {
   "cell_type": "markdown",
   "id": "literary-calendar",
   "metadata": {},
   "source": [
    "## Validation set"
   ]
  },
  {
   "cell_type": "code",
   "execution_count": 237,
   "id": "mounted-monaco",
   "metadata": {},
   "outputs": [],
   "source": [
    "test, test_labels = get_image(\"male\",test,test_labels, step = 'validation')"
   ]
  },
  {
   "cell_type": "code",
   "execution_count": 238,
   "id": "adapted-macintosh",
   "metadata": {},
   "outputs": [],
   "source": [
    "test = test[:300]\n",
    "test_labels = test_labels[:300]"
   ]
  },
  {
   "cell_type": "code",
   "execution_count": 239,
   "id": "understanding-annotation",
   "metadata": {},
   "outputs": [],
   "source": [
    "test, test_labels = get_image(\"female\",test,test_labels, step = 'validation')"
   ]
  },
  {
   "cell_type": "code",
   "execution_count": 240,
   "id": "complimentary-hygiene",
   "metadata": {},
   "outputs": [],
   "source": [
    "test = test[:-600]\n",
    "test_labels = test_labels[:-600]"
   ]
  },
  {
   "cell_type": "code",
   "execution_count": 219,
   "id": "biological-border",
   "metadata": {},
   "outputs": [
    {
     "data": {
      "text/plain": [
       "(224, 224, 3)"
      ]
     },
     "execution_count": 219,
     "metadata": {},
     "output_type": "execute_result"
    }
   ],
   "source": [
    "test[0].shape"
   ]
  },
  {
   "cell_type": "code",
   "execution_count": 241,
   "id": "serious-translation",
   "metadata": {},
   "outputs": [
    {
     "data": {
      "text/plain": [
       "610"
      ]
     },
     "execution_count": 241,
     "metadata": {},
     "output_type": "execute_result"
    }
   ],
   "source": [
    "len(test)"
   ]
  },
  {
   "cell_type": "code",
   "execution_count": 231,
   "id": "vanilla-difficulty",
   "metadata": {},
   "outputs": [
    {
     "data": {
      "text/plain": [
       "610"
      ]
     },
     "execution_count": 231,
     "metadata": {},
     "output_type": "execute_result"
    }
   ],
   "source": [
    "test_labels.count(0)"
   ]
  },
  {
   "cell_type": "markdown",
   "id": "rental-boutique",
   "metadata": {},
   "source": [
    "### Model trained on Colab for GPU and memory reasons\n",
    "\n",
    "### training the model with the labelized data\n",
    "### batch size is 32 with 80% train and 20% validation\n",
    "### 80 steps per epochs with 10 epochs"
   ]
  },
  {
   "cell_type": "code",
   "execution_count": 242,
   "id": "contained-knitting",
   "metadata": {},
   "outputs": [
    {
     "ename": "MemoryError",
     "evalue": "Unable to allocate 1.94 GiB for an array with shape (3456, 224, 224, 3) and data type float32",
     "output_type": "error",
     "traceback": [
      "\u001b[1;31m---------------------------------------------------------------------------\u001b[0m",
      "\u001b[1;31mMemoryError\u001b[0m                               Traceback (most recent call last)",
      "\u001b[1;32m<ipython-input-242-ccce48c30a09>\u001b[0m in \u001b[0;36m<module>\u001b[1;34m\u001b[0m\n\u001b[1;32m----> 1\u001b[1;33m \u001b[0mvgghist\u001b[0m \u001b[1;33m=\u001b[0m \u001b[0mmodel\u001b[0m\u001b[1;33m.\u001b[0m\u001b[0mfit\u001b[0m\u001b[1;33m(\u001b[0m\u001b[0mnp\u001b[0m\u001b[1;33m.\u001b[0m\u001b[0marray\u001b[0m\u001b[1;33m(\u001b[0m\u001b[0mtrain\u001b[0m\u001b[1;33m)\u001b[0m\u001b[1;33m,\u001b[0m\u001b[0mnp\u001b[0m\u001b[1;33m.\u001b[0m\u001b[0marray\u001b[0m\u001b[1;33m(\u001b[0m\u001b[0mtrain_labels\u001b[0m\u001b[1;33m)\u001b[0m\u001b[1;33m,\u001b[0m \u001b[0mvalidation_data\u001b[0m \u001b[1;33m=\u001b[0m \u001b[1;33m(\u001b[0m\u001b[0mnp\u001b[0m\u001b[1;33m.\u001b[0m\u001b[0marray\u001b[0m\u001b[1;33m(\u001b[0m\u001b[0mtest\u001b[0m\u001b[1;33m)\u001b[0m\u001b[1;33m,\u001b[0m\u001b[0mnp\u001b[0m\u001b[1;33m.\u001b[0m\u001b[0marray\u001b[0m\u001b[1;33m(\u001b[0m\u001b[0mtest_labels\u001b[0m\u001b[1;33m)\u001b[0m\u001b[1;33m)\u001b[0m\u001b[1;33m,\u001b[0m \u001b[0mbatch_size\u001b[0m \u001b[1;33m=\u001b[0m \u001b[1;36m32\u001b[0m\u001b[1;33m,\u001b[0m\u001b[0msteps_per_epoch\u001b[0m \u001b[1;33m=\u001b[0m \u001b[1;36m100\u001b[0m\u001b[1;33m,\u001b[0m \u001b[0mepochs\u001b[0m \u001b[1;33m=\u001b[0m \u001b[1;36m10\u001b[0m\u001b[1;33m)\u001b[0m\u001b[1;33m\u001b[0m\u001b[1;33m\u001b[0m\u001b[0m\n\u001b[0m",
      "\u001b[1;31mMemoryError\u001b[0m: Unable to allocate 1.94 GiB for an array with shape (3456, 224, 224, 3) and data type float32"
     ]
    }
   ],
   "source": [
    "# vgghist = model.fit(np.array(train),np.array(train_labels), validation_data = (np.array(test),np.array(test_labels)), batch_size = 32,steps_per_epoch = 80, epochs = 10)\n"
   ]
  },
  {
   "attachments": {
    "image.png": {
     "image/png": "[encoded data removed]"
    }
   },
   "cell_type": "markdown",
   "id": "macro-comedy",
   "metadata": {},
   "source": [
    "### Executed on Colab :\n",
    "### ![image.png](attachment:image.png)\n"
   ]
  },
  {
   "cell_type": "markdown",
   "id": "fifteen-restaurant",
   "metadata": {},
   "source": [
    "### The accuracy is not high as it is only 0.5 on the validation set\n",
    "\n",
    "### This is due to the lack of data for the fitting part. As Colab run online, it was a challenge to feed and train the model.\n",
    "### Colab processed the code faster, but as the repository is online it takes time and space in addition to that my wifi is very busy"
   ]
  },
  {
   "cell_type": "code",
   "execution_count": 19,
   "id": "dangerous-transmission",
   "metadata": {},
   "outputs": [
    {
     "name": "stdout",
     "output_type": "stream",
     "text": [
      "Loaded model from disk\n"
     ]
    }
   ],
   "source": [
    "# load json and create model\n",
    "json_file = open('model.json', 'r')\n",
    "loaded_model_json = json_file.read()\n",
    "json_file.close()\n",
    "loaded_model = model_from_json(loaded_model_json)\n",
    "\n",
    "# load weights into new model\n",
    "loaded_model.load_weights(\"model.h5\")\n",
    "print(\"Loaded model from disk\")"
   ]
  },
  {
   "cell_type": "code",
   "execution_count": 31,
   "id": "sound-begin",
   "metadata": {},
   "outputs": [],
   "source": [
    "# Set to predict\n",
    "images = []\n",
    "for i in range(200) :\n",
    "    images.append(open_convert(d.iloc[i,4]))\n",
    "    "
   ]
  },
  {
   "cell_type": "code",
   "execution_count": 32,
   "id": "helpful-motorcycle",
   "metadata": {},
   "outputs": [
    {
     "name": "stderr",
     "output_type": "stream",
     "text": [
      "C:\\Users\\pc\\AppData\\Roaming\\Python\\Python37\\site-packages\\tensorflow\\python\\data\\ops\\dataset_ops.py:3504: UserWarning: Even though the tf.config.experimental_run_functions_eagerly option is set, this option does not apply to tf.data functions. tf.data functions are still traced and executed as graphs.\n",
      "  \"Even though the tf.config.experimental_run_functions_eagerly \"\n"
     ]
    }
   ],
   "source": [
    "pred = []\n",
    "\n",
    "for i in range(200) : \n",
    "    pred.append(loaded_model.predict(images[i]))"
   ]
  },
  {
   "cell_type": "code",
   "execution_count": 33,
   "id": "fifteen-watson",
   "metadata": {},
   "outputs": [
    {
     "data": {
      "text/plain": [
       "200"
      ]
     },
     "execution_count": 33,
     "metadata": {},
     "output_type": "execute_result"
    }
   ],
   "source": [
    "len(images)"
   ]
  },
  {
   "cell_type": "code",
   "execution_count": 34,
   "id": "partial-cancellation",
   "metadata": {},
   "outputs": [],
   "source": [
    "for i in range(200) : \n",
    "    if pred[i][0][0] > 0.5 : \n",
    "        pred[i] = 1\n",
    "    else: \n",
    "        pred[i] = 0"
   ]
  },
  {
   "cell_type": "markdown",
   "id": "explicit-treatment",
   "metadata": {},
   "source": [
    "### 106 men and 94 women predicted"
   ]
  },
  {
   "cell_type": "code",
   "execution_count": 44,
   "id": "directed-enforcement",
   "metadata": {},
   "outputs": [
    {
     "data": {
      "text/plain": [
       "(106, 94)"
      ]
     },
     "execution_count": 44,
     "metadata": {},
     "output_type": "execute_result"
    }
   ],
   "source": [
    "pred.count(1), pred.count(0)"
   ]
  },
  {
   "cell_type": "code",
   "execution_count": 59,
   "id": "organizational-drove",
   "metadata": {},
   "outputs": [],
   "source": [
    "d['pred'] = pred"
   ]
  },
  {
   "cell_type": "code",
   "execution_count": 64,
   "id": "experienced-lover",
   "metadata": {},
   "outputs": [],
   "source": [
    "d['pred'] = d['pred'].replace(0,\"female\")\n",
    "d['pred'] = d['pred'].replace(1,\"male\")\n"
   ]
  },
  {
   "cell_type": "code",
   "execution_count": null,
   "id": "alike-appointment",
   "metadata": {},
   "outputs": [],
   "source": [
    "d.sample(n=20)"
   ]
  },
  {
   "cell_type": "code",
   "execution_count": 66,
   "id": "regular-soviet",
   "metadata": {},
   "outputs": [],
   "source": [
    "d.to_csv(\"data_employees_gender.csv\")"
   ]
  }
 ],
 "metadata": {
  "kernelspec": {
   "display_name": "Python 3.7.9 ('base')",
   "language": "python",
   "name": "python3"
  },
  "language_info": {
   "codemirror_mode": {
    "name": "ipython",
    "version": 3
   },
   "file_extension": ".py",
   "mimetype": "text/x-python",
   "name": "python",
   "nbconvert_exporter": "python",
   "pygments_lexer": "ipython3",
   "version": "3.7.9"
  },
  "vscode": {
   "interpreter": {
    "hash": "fa069ea19d07add8689c2724f9b144f1ffa85d5e923d5f9d05586b414747d948"
   }
  }
 },
 "nbformat": 4,
 "nbformat_minor": 5
}
